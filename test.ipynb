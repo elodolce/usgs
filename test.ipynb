{
 "metadata": {
  "name": "",
  "signature": "sha256:39b2ef1e7290d05549724f5f55bbd3e787fce83c732776b687db490c4dc29031"
 },
 "nbformat": 3,
 "nbformat_minor": 0,
 "worksheets": []
}